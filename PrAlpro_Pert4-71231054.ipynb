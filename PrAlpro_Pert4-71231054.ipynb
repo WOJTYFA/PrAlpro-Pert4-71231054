{
 "cells": [
  {
   "cell_type": "code",
   "execution_count": 16,
   "metadata": {},
   "outputs": [
    {
     "name": "stdout",
     "output_type": "stream",
     "text": [
      "False\n",
      "False\n"
     ]
    }
   ],
   "source": [
    "#latihan 4.1\n",
    "\n",
    "def cek_angka(a, b, c):\n",
    "    \n",
    "    #ketiga parameter nilainya harus beda\n",
    "    if a == b or a == c or b == c:\n",
    "    \n",
    "        return False\n",
    "    \n",
    "    #jika dua parameter dan dijumlahkan hasilnya sama dengan parameter sisanya\n",
    "    if a + b == c or b + c == a or a + c == b:\n",
    "        \n",
    "        return False\n",
    "    \n",
    "    #jika tidak memenuhi salah satu dari dua ketentuan\n",
    "        return False\n",
    "\n",
    "    #misal\n",
    "print(cek_angka(1, 2, 3)) #True\n",
    "print(cek_angka(3, 4, 4)) #False"
   ]
  },
  {
   "cell_type": "code",
   "execution_count": 14,
   "metadata": {},
   "outputs": [
    {
     "name": "stdout",
     "output_type": "stream",
     "text": [
      "True\n"
     ]
    }
   ],
   "source": [
    "#latihan 4.2\n",
    "\n",
    "def cek_digit_belakang(a, b, c):\n",
    "    #mengambil digit paling kanan\n",
    "\n",
    "    digit_a = str(a)[-1]\n",
    "    digit_b = str(b)[-1]\n",
    "    digit_c = str(c)[-1]\n",
    "\n",
    "    #cek apakah ada minimal 2 dari 3 digit kanan sama \n",
    "    if digit_a == digit_b or digit_a == digit_c or digit_b == digit_c:\n",
    "        return True \n",
    "    else:\n",
    "        return False\n",
    "    \n",
    "        #input dari pengguna \n",
    "a = int(input( \" Masukan Nilai a: \"))\n",
    "b = int(input( \" Masukan Nilai b: \"))\n",
    "c = int(input( \" Masukan Nilai c: \"))\n",
    "  \n",
    "print(cek_digit_belakang(a, b, c))"
   ]
  },
  {
   "cell_type": "code",
   "execution_count": 6,
   "metadata": {},
   "outputs": [
    {
     "name": "stdout",
     "output_type": "stream",
     "text": [
      "`input Celcius = 100 output Fahrenheit = 212.0\n",
      "`input Celcius = 80 output Reamur = 64.0\n",
      "`input Celcius = 0 output Reamur = 0.0\n"
     ]
    }
   ],
   "source": [
    "#latihan 4.3\n",
    "\n",
    "#konvrensi suhu\n",
    "celcius_to_fahrenheit = lambda C : (9 / 5) * C + 32\n",
    "celcius_to_reamur = lambda C : 0.8 * C \n",
    "\n",
    "#misal\n",
    "input_Celcius1 = 100\n",
    "output_Fahrenheit1 = celcius_to_fahrenheit(input_Celcius1)\n",
    "print(f\"`input Celcius = {input_Celcius1} output Fahrenheit = {output_Fahrenheit1}\")\n",
    "\n",
    "input_Celcius2 = 80\n",
    "output_Reamur2 = celcius_to_reamur(input_Celcius2)\n",
    "print(f\"`input Celcius = {input_Celcius2} output Reamur = {output_Reamur2}\")\n",
    "\n",
    "input_Celcius3 = 0\n",
    "output_Reamur3 = celcius_to_reamur(input_Celcius3)\n",
    "print(f\"`input Celcius = {input_Celcius3} output Reamur = {output_Reamur3}\")\n",
    "\n",
    "\n",
    "\n",
    "\n",
    "\n"
   ]
  }
 ],
 "metadata": {
  "kernelspec": {
   "display_name": "Python 3",
   "language": "python",
   "name": "python3"
  },
  "language_info": {
   "codemirror_mode": {
    "name": "ipython",
    "version": 3
   },
   "file_extension": ".py",
   "mimetype": "text/x-python",
   "name": "python",
   "nbconvert_exporter": "python",
   "pygments_lexer": "ipython3",
   "version": "3.12.0"
  }
 },
 "nbformat": 4,
 "nbformat_minor": 2
}
